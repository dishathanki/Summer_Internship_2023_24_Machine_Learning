{
 "cells": [
  {
   "cell_type": "code",
   "execution_count": 1,
   "id": "1e27d674",
   "metadata": {
    "_cell_guid": "b1076dfc-b9ad-4769-8c92-a6c4dae69d19",
    "_uuid": "8f2839f25d086af736a60e9eeb907d3b93b6e0e5",
    "execution": {
     "iopub.execute_input": "2023-09-01T16:52:19.477069Z",
     "iopub.status.busy": "2023-09-01T16:52:19.476259Z",
     "iopub.status.idle": "2023-09-01T16:52:20.854628Z",
     "shell.execute_reply": "2023-09-01T16:52:20.852914Z"
    },
    "papermill": {
     "duration": 1.389844,
     "end_time": "2023-09-01T16:52:20.857847",
     "exception": false,
     "start_time": "2023-09-01T16:52:19.468003",
     "status": "completed"
    },
    "tags": []
   },
   "outputs": [
    {
     "name": "stderr",
     "output_type": "stream",
     "text": [
      "/opt/conda/lib/python3.10/site-packages/scipy/__init__.py:146: UserWarning: A NumPy version >=1.16.5 and <1.23.0 is required for this version of SciPy (detected version 1.23.5\n",
      "  warnings.warn(f\"A NumPy version >={np_minversion} and <{np_maxversion}\"\n"
     ]
    }
   ],
   "source": [
    "# imporitng libraries\n",
    "\n",
    "import numpy as np\n",
    "import pandas as pd\n",
    "import matplotlib.pyplot as plt\n",
    "from sklearn.model_selection import train_test_split\n",
    "from sklearn.preprocessing import StandardScaler\n",
    "from sklearn.metrics import accuracy_score"
   ]
  },
  {
   "cell_type": "code",
   "execution_count": 2,
   "id": "1df08dfe",
   "metadata": {
    "execution": {
     "iopub.execute_input": "2023-09-01T16:52:20.869935Z",
     "iopub.status.busy": "2023-09-01T16:52:20.869488Z",
     "iopub.status.idle": "2023-09-01T16:52:20.937905Z",
     "shell.execute_reply": "2023-09-01T16:52:20.936574Z"
    },
    "papermill": {
     "duration": 0.077694,
     "end_time": "2023-09-01T16:52:20.940915",
     "exception": false,
     "start_time": "2023-09-01T16:52:20.863221",
     "status": "completed"
    },
    "tags": []
   },
   "outputs": [
    {
     "data": {
      "text/html": [
       "<div>\n",
       "<style scoped>\n",
       "    .dataframe tbody tr th:only-of-type {\n",
       "        vertical-align: middle;\n",
       "    }\n",
       "\n",
       "    .dataframe tbody tr th {\n",
       "        vertical-align: top;\n",
       "    }\n",
       "\n",
       "    .dataframe thead th {\n",
       "        text-align: right;\n",
       "    }\n",
       "</style>\n",
       "<table border=\"1\" class=\"dataframe\">\n",
       "  <thead>\n",
       "    <tr style=\"text-align: right;\">\n",
       "      <th></th>\n",
       "      <th>long_hair</th>\n",
       "      <th>forehead_width_cm</th>\n",
       "      <th>forehead_height_cm</th>\n",
       "      <th>nose_wide</th>\n",
       "      <th>nose_long</th>\n",
       "      <th>lips_thin</th>\n",
       "      <th>distance_nose_to_lip_long</th>\n",
       "      <th>gender</th>\n",
       "    </tr>\n",
       "  </thead>\n",
       "  <tbody>\n",
       "    <tr>\n",
       "      <th>0</th>\n",
       "      <td>1</td>\n",
       "      <td>11.8</td>\n",
       "      <td>6.1</td>\n",
       "      <td>1</td>\n",
       "      <td>0</td>\n",
       "      <td>1</td>\n",
       "      <td>1</td>\n",
       "      <td>0</td>\n",
       "    </tr>\n",
       "    <tr>\n",
       "      <th>1</th>\n",
       "      <td>0</td>\n",
       "      <td>14.0</td>\n",
       "      <td>5.4</td>\n",
       "      <td>0</td>\n",
       "      <td>0</td>\n",
       "      <td>1</td>\n",
       "      <td>0</td>\n",
       "      <td>1</td>\n",
       "    </tr>\n",
       "    <tr>\n",
       "      <th>2</th>\n",
       "      <td>0</td>\n",
       "      <td>11.8</td>\n",
       "      <td>6.3</td>\n",
       "      <td>1</td>\n",
       "      <td>1</td>\n",
       "      <td>1</td>\n",
       "      <td>1</td>\n",
       "      <td>0</td>\n",
       "    </tr>\n",
       "    <tr>\n",
       "      <th>3</th>\n",
       "      <td>0</td>\n",
       "      <td>14.4</td>\n",
       "      <td>6.1</td>\n",
       "      <td>0</td>\n",
       "      <td>1</td>\n",
       "      <td>1</td>\n",
       "      <td>1</td>\n",
       "      <td>0</td>\n",
       "    </tr>\n",
       "    <tr>\n",
       "      <th>4</th>\n",
       "      <td>1</td>\n",
       "      <td>13.5</td>\n",
       "      <td>5.9</td>\n",
       "      <td>0</td>\n",
       "      <td>0</td>\n",
       "      <td>0</td>\n",
       "      <td>0</td>\n",
       "      <td>1</td>\n",
       "    </tr>\n",
       "  </tbody>\n",
       "</table>\n",
       "</div>"
      ],
      "text/plain": [
       "   long_hair  forehead_width_cm  forehead_height_cm  nose_wide  nose_long  \\\n",
       "0          1               11.8                 6.1          1          0   \n",
       "1          0               14.0                 5.4          0          0   \n",
       "2          0               11.8                 6.3          1          1   \n",
       "3          0               14.4                 6.1          0          1   \n",
       "4          1               13.5                 5.9          0          0   \n",
       "\n",
       "   lips_thin  distance_nose_to_lip_long  gender  \n",
       "0          1                          1       0  \n",
       "1          1                          0       1  \n",
       "2          1                          1       0  \n",
       "3          1                          1       0  \n",
       "4          0                          0       1  "
      ]
     },
     "execution_count": 2,
     "metadata": {},
     "output_type": "execute_result"
    }
   ],
   "source": [
    "# reading csv file \n",
    "\n",
    "data = pd.read_csv('/kaggle/input/gender-classification-dataset/gender_classification_v7.csv')\n",
    "\n",
    "data.replace({'gender':{'Female':1,'Male':0}},inplace=True)\n",
    "\n",
    "data.head()"
   ]
  },
  {
   "cell_type": "code",
   "execution_count": 3,
   "id": "3637b4df",
   "metadata": {
    "execution": {
     "iopub.execute_input": "2023-09-01T16:52:20.953981Z",
     "iopub.status.busy": "2023-09-01T16:52:20.953573Z",
     "iopub.status.idle": "2023-09-01T16:52:20.979194Z",
     "shell.execute_reply": "2023-09-01T16:52:20.978006Z"
    },
    "papermill": {
     "duration": 0.035925,
     "end_time": "2023-09-01T16:52:20.982341",
     "exception": false,
     "start_time": "2023-09-01T16:52:20.946416",
     "status": "completed"
    },
    "tags": []
   },
   "outputs": [],
   "source": [
    "#  defining X and Y \n",
    "\n",
    "features = data.drop('gender',axis=1)\n",
    "target = data['gender']\n",
    "\n",
    "scaler =  StandardScaler()\n",
    "scaler.fit(features)\n",
    "\n",
    "chngd_data = scaler.transform(features)\n",
    "\n",
    "features = chngd_data\n",
    "target = data['gender']\n",
    "\n",
    "# dividing Data\n",
    "X_train,X_test,Y_train,Y_test = train_test_split(features,target,test_size=0.2,random_state=2) \n"
   ]
  },
  {
   "cell_type": "code",
   "execution_count": 4,
   "id": "e45184f4",
   "metadata": {
    "execution": {
     "iopub.execute_input": "2023-09-01T16:52:20.995638Z",
     "iopub.status.busy": "2023-09-01T16:52:20.995206Z",
     "iopub.status.idle": "2023-09-01T16:52:21.007670Z",
     "shell.execute_reply": "2023-09-01T16:52:21.006246Z"
    },
    "papermill": {
     "duration": 0.021999,
     "end_time": "2023-09-01T16:52:21.010146",
     "exception": false,
     "start_time": "2023-09-01T16:52:20.988147",
     "status": "completed"
    },
    "tags": []
   },
   "outputs": [],
   "source": [
    "# defining Class Logistic_Regression\n",
    "\n",
    "class LogisiticRegression():\n",
    "#     used to initializing object values\n",
    "    def __init__(self,learning_rate=0.01,epochs=100):\n",
    "        \n",
    "        self.lr = learning_rate\n",
    "        self.epochs = epochs\n",
    "        self.weights = None\n",
    "        self.bias = None\n",
    "    \n",
    "          \n",
    "#     fit function is used to train model  \n",
    "    def fit(self,X,Y):\n",
    "        \n",
    "        self.no_ex,self.no_features = X.shape\n",
    "        self.weights = np.zeros(self.no_features)\n",
    "        self.bias = 0\n",
    "        self.X = X\n",
    "        self.Y = Y\n",
    "        \n",
    "        for i in range(self.epochs):\n",
    "#              calling update_weight function to update value of weight and bias\n",
    "            self.update_weights()\n",
    "            \n",
    "#     this function updates the value of weights and bias\n",
    "\n",
    "    def update_weights(self):\n",
    "#          Y_hat is predicted value of Y \n",
    "        Y_hat = 1 / (1 + np.exp(-(self.X.dot(self.weights) + self.bias)))\n",
    "        \n",
    "        dw = (1/self.no_ex) * np.dot(self.X.T,(Y_hat - self.Y))\n",
    "        \n",
    "        db = (1/self.no_ex) * np.sum(Y_hat - self.Y)\n",
    "        \n",
    "        self.weights -= self.lr*dw\n",
    "        self.bias -= self.lr*db\n",
    "#     this function predicts the value of y\n",
    "    def predict(self,X):\n",
    "        \n",
    "        Y_pred = 1 /(1 + np.exp(-(X.dot(self.weights) + self.bias)))\n",
    "        Y_pred = np.where( Y_pred > 0.5,1,0)\n",
    "        return Y_pred"
   ]
  },
  {
   "cell_type": "code",
   "execution_count": 5,
   "id": "b4c49e76",
   "metadata": {
    "execution": {
     "iopub.execute_input": "2023-09-01T16:52:21.022806Z",
     "iopub.status.busy": "2023-09-01T16:52:21.022377Z",
     "iopub.status.idle": "2023-09-01T16:52:21.167364Z",
     "shell.execute_reply": "2023-09-01T16:52:21.165884Z"
    },
    "papermill": {
     "duration": 0.156635,
     "end_time": "2023-09-01T16:52:21.172113",
     "exception": false,
     "start_time": "2023-09-01T16:52:21.015478",
     "status": "completed"
    },
    "tags": []
   },
   "outputs": [
    {
     "name": "stdout",
     "output_type": "stream",
     "text": [
      "0.9660339660339661\n"
     ]
    }
   ],
   "source": [
    "#  creating object of class Logisitc_Regression\n",
    "\n",
    "model = LogisiticRegression()\n",
    "\n",
    "#calling fit function to train model\n",
    "model.fit(X_train,Y_train)\n",
    "\n",
    "#calling predict function to predict the value of y\n",
    "predict = model.predict(X_test)\n",
    "\n",
    "#testing accuracy of code \n",
    "ac = accuracy_score(Y_test,predict)\n",
    "print(ac)"
   ]
  }
 ],
 "kernelspec": {
  "display_name": "Python 3",
  "language": "python",
  "name": "python3"
 },
 "language_info": {
  "codemirror_mode": {
   "name": "ipython",
   "version": 3
  },
  "file_extension": ".py",
  "mimetype": "text/x-python",
  "name": "python",
  "nbconvert_exporter": "python",
  "pygments_lexer": "ipython3",
  "version": "3.6.4"
 },
 "metadata": {
  "kernelspec": {
   "display_name": "Python 3",
   "language": "python",
   "name": "python3"
  },
  "language_info": {
   "codemirror_mode": {
    "name": "ipython",
    "version": 3
   },
   "file_extension": ".py",
   "mimetype": "text/x-python",
   "name": "python",
   "nbconvert_exporter": "python",
   "pygments_lexer": "ipython3",
   "version": "3.10.12"
  },
  "papermill": {
   "default_parameters": {},
   "duration": 15.883319,
   "end_time": "2023-09-01T16:52:22.320924",
   "environment_variables": {},
   "exception": null,
   "input_path": "__notebook__.ipynb",
   "output_path": "__notebook__.ipynb",
   "parameters": {},
   "start_time": "2023-09-01T16:52:06.437605",
   "version": "2.4.0"
  }
 },
 "nbformat": 4,
 "nbformat_minor": 5
}
