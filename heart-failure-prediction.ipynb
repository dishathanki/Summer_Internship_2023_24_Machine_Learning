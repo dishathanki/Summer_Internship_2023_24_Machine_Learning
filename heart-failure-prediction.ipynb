{
 "cells": [
  {
   "cell_type": "code",
   "execution_count": 1,
   "id": "68b83f0a",
   "metadata": {
    "_cell_guid": "b1076dfc-b9ad-4769-8c92-a6c4dae69d19",
    "_uuid": "8f2839f25d086af736a60e9eeb907d3b93b6e0e5",
    "execution": {
     "iopub.execute_input": "2023-09-01T16:50:31.755514Z",
     "iopub.status.busy": "2023-09-01T16:50:31.754986Z",
     "iopub.status.idle": "2023-09-01T16:50:33.397472Z",
     "shell.execute_reply": "2023-09-01T16:50:33.396172Z"
    },
    "papermill": {
     "duration": 1.653318,
     "end_time": "2023-09-01T16:50:33.400668",
     "exception": false,
     "start_time": "2023-09-01T16:50:31.747350",
     "status": "completed"
    },
    "tags": []
   },
   "outputs": [
    {
     "name": "stderr",
     "output_type": "stream",
     "text": [
      "/opt/conda/lib/python3.10/site-packages/scipy/__init__.py:146: UserWarning: A NumPy version >=1.16.5 and <1.23.0 is required for this version of SciPy (detected version 1.23.5\n",
      "  warnings.warn(f\"A NumPy version >={np_minversion} and <{np_maxversion}\"\n"
     ]
    }
   ],
   "source": [
    "# importing libraries for model\n",
    "\n",
    "import numpy as np\n",
    "import pandas as pd\n",
    "import matplotlib.pyplot as plt\n",
    "from sklearn.model_selection import train_test_split\n",
    "from sklearn.preprocessing import StandardScaler\n",
    "from sklearn.metrics import accuracy_score"
   ]
  },
  {
   "cell_type": "code",
   "execution_count": 2,
   "id": "6cd32adf",
   "metadata": {
    "execution": {
     "iopub.execute_input": "2023-09-01T16:50:33.412603Z",
     "iopub.status.busy": "2023-09-01T16:50:33.412145Z",
     "iopub.status.idle": "2023-09-01T16:50:33.483307Z",
     "shell.execute_reply": "2023-09-01T16:50:33.481831Z"
    },
    "papermill": {
     "duration": 0.079953,
     "end_time": "2023-09-01T16:50:33.485839",
     "exception": false,
     "start_time": "2023-09-01T16:50:33.405886",
     "status": "completed"
    },
    "tags": []
   },
   "outputs": [
    {
     "data": {
      "text/html": [
       "<div>\n",
       "<style scoped>\n",
       "    .dataframe tbody tr th:only-of-type {\n",
       "        vertical-align: middle;\n",
       "    }\n",
       "\n",
       "    .dataframe tbody tr th {\n",
       "        vertical-align: top;\n",
       "    }\n",
       "\n",
       "    .dataframe thead th {\n",
       "        text-align: right;\n",
       "    }\n",
       "</style>\n",
       "<table border=\"1\" class=\"dataframe\">\n",
       "  <thead>\n",
       "    <tr style=\"text-align: right;\">\n",
       "      <th></th>\n",
       "      <th>age</th>\n",
       "      <th>anaemia</th>\n",
       "      <th>creatinine_phosphokinase</th>\n",
       "      <th>diabetes</th>\n",
       "      <th>ejection_fraction</th>\n",
       "      <th>high_blood_pressure</th>\n",
       "      <th>platelets</th>\n",
       "      <th>serum_creatinine</th>\n",
       "      <th>serum_sodium</th>\n",
       "      <th>sex</th>\n",
       "      <th>smoking</th>\n",
       "      <th>time</th>\n",
       "      <th>DEATH_EVENT</th>\n",
       "    </tr>\n",
       "  </thead>\n",
       "  <tbody>\n",
       "    <tr>\n",
       "      <th>0</th>\n",
       "      <td>75.0</td>\n",
       "      <td>0</td>\n",
       "      <td>582</td>\n",
       "      <td>0</td>\n",
       "      <td>20</td>\n",
       "      <td>1</td>\n",
       "      <td>265000.00</td>\n",
       "      <td>1.9</td>\n",
       "      <td>130</td>\n",
       "      <td>1</td>\n",
       "      <td>0</td>\n",
       "      <td>4</td>\n",
       "      <td>1</td>\n",
       "    </tr>\n",
       "    <tr>\n",
       "      <th>1</th>\n",
       "      <td>55.0</td>\n",
       "      <td>0</td>\n",
       "      <td>7861</td>\n",
       "      <td>0</td>\n",
       "      <td>38</td>\n",
       "      <td>0</td>\n",
       "      <td>263358.03</td>\n",
       "      <td>1.1</td>\n",
       "      <td>136</td>\n",
       "      <td>1</td>\n",
       "      <td>0</td>\n",
       "      <td>6</td>\n",
       "      <td>1</td>\n",
       "    </tr>\n",
       "    <tr>\n",
       "      <th>2</th>\n",
       "      <td>65.0</td>\n",
       "      <td>0</td>\n",
       "      <td>146</td>\n",
       "      <td>0</td>\n",
       "      <td>20</td>\n",
       "      <td>0</td>\n",
       "      <td>162000.00</td>\n",
       "      <td>1.3</td>\n",
       "      <td>129</td>\n",
       "      <td>1</td>\n",
       "      <td>1</td>\n",
       "      <td>7</td>\n",
       "      <td>1</td>\n",
       "    </tr>\n",
       "    <tr>\n",
       "      <th>3</th>\n",
       "      <td>50.0</td>\n",
       "      <td>1</td>\n",
       "      <td>111</td>\n",
       "      <td>0</td>\n",
       "      <td>20</td>\n",
       "      <td>0</td>\n",
       "      <td>210000.00</td>\n",
       "      <td>1.9</td>\n",
       "      <td>137</td>\n",
       "      <td>1</td>\n",
       "      <td>0</td>\n",
       "      <td>7</td>\n",
       "      <td>1</td>\n",
       "    </tr>\n",
       "    <tr>\n",
       "      <th>4</th>\n",
       "      <td>65.0</td>\n",
       "      <td>1</td>\n",
       "      <td>160</td>\n",
       "      <td>1</td>\n",
       "      <td>20</td>\n",
       "      <td>0</td>\n",
       "      <td>327000.00</td>\n",
       "      <td>2.7</td>\n",
       "      <td>116</td>\n",
       "      <td>0</td>\n",
       "      <td>0</td>\n",
       "      <td>8</td>\n",
       "      <td>1</td>\n",
       "    </tr>\n",
       "  </tbody>\n",
       "</table>\n",
       "</div>"
      ],
      "text/plain": [
       "    age  anaemia  creatinine_phosphokinase  diabetes  ejection_fraction  \\\n",
       "0  75.0        0                       582         0                 20   \n",
       "1  55.0        0                      7861         0                 38   \n",
       "2  65.0        0                       146         0                 20   \n",
       "3  50.0        1                       111         0                 20   \n",
       "4  65.0        1                       160         1                 20   \n",
       "\n",
       "   high_blood_pressure  platelets  serum_creatinine  serum_sodium  sex  \\\n",
       "0                    1  265000.00               1.9           130    1   \n",
       "1                    0  263358.03               1.1           136    1   \n",
       "2                    0  162000.00               1.3           129    1   \n",
       "3                    0  210000.00               1.9           137    1   \n",
       "4                    0  327000.00               2.7           116    0   \n",
       "\n",
       "   smoking  time  DEATH_EVENT  \n",
       "0        0     4            1  \n",
       "1        0     6            1  \n",
       "2        1     7            1  \n",
       "3        0     7            1  \n",
       "4        0     8            1  "
      ]
     },
     "execution_count": 2,
     "metadata": {},
     "output_type": "execute_result"
    }
   ],
   "source": [
    "# reading csv file \n",
    "\n",
    "data = pd.read_csv('../input/heart-failure-clinical-data/heart_failure_clinical_records_dataset.csv')\n",
    "\n",
    "data.head()"
   ]
  },
  {
   "cell_type": "code",
   "execution_count": 3,
   "id": "0f26d290",
   "metadata": {
    "execution": {
     "iopub.execute_input": "2023-09-01T16:50:33.499704Z",
     "iopub.status.busy": "2023-09-01T16:50:33.498808Z",
     "iopub.status.idle": "2023-09-01T16:50:33.523058Z",
     "shell.execute_reply": "2023-09-01T16:50:33.521900Z"
    },
    "papermill": {
     "duration": 0.034402,
     "end_time": "2023-09-01T16:50:33.526289",
     "exception": false,
     "start_time": "2023-09-01T16:50:33.491887",
     "status": "completed"
    },
    "tags": []
   },
   "outputs": [],
   "source": [
    "\n",
    "features = data.drop('DEATH_EVENT',axis=1)\n",
    "target = data['DEATH_EVENT']\n",
    "\n",
    "scaler =  StandardScaler()\n",
    "scaler.fit(features)\n",
    "\n",
    "chngd_data = scaler.transform(features)\n",
    "\n",
    "#intializing features and target again\n",
    "features = chngd_data\n",
    "target = data['DEATH_EVENT']\n",
    "\n",
    "#dividing Data\n",
    "X_train,X_test,Y_train,Y_test = train_test_split(features,target,test_size=0.2,random_state=2) \n"
   ]
  },
  {
   "cell_type": "code",
   "execution_count": 4,
   "id": "cd9ab998",
   "metadata": {
    "execution": {
     "iopub.execute_input": "2023-09-01T16:50:33.539710Z",
     "iopub.status.busy": "2023-09-01T16:50:33.538659Z",
     "iopub.status.idle": "2023-09-01T16:50:33.552275Z",
     "shell.execute_reply": "2023-09-01T16:50:33.550871Z"
    },
    "papermill": {
     "duration": 0.023758,
     "end_time": "2023-09-01T16:50:33.555375",
     "exception": false,
     "start_time": "2023-09-01T16:50:33.531617",
     "status": "completed"
    },
    "tags": []
   },
   "outputs": [],
   "source": [
    "# defining Class Logistic_Regression\n",
    "\n",
    "class LogisiticRegression():\n",
    "#     used to initializing object values\n",
    "    def __init__(self,learning_rate=0.01,epochs=100):\n",
    "        \n",
    "        self.lr = learning_rate\n",
    "        self.epochs = epochs\n",
    "        self.weights = None\n",
    "        self.bias = None\n",
    "        \n",
    "#     fit function is used to train model  \n",
    "\n",
    "    def fit(self,X,Y):\n",
    "        \n",
    "        self.no_ex,self.no_features = X.shape\n",
    "        self.weights = np.zeros(self.no_features)\n",
    "        self.bias = 0\n",
    "        self.X = X\n",
    "        self.Y = Y\n",
    "        \n",
    "        for i in range(self.epochs):\n",
    "#             calling update_weight function to update value of weight and bias\n",
    "            self.update_weights()\n",
    "            \n",
    "#     this function updates the value of weights and bias\n",
    "\n",
    "    def update_weights(self):\n",
    "#         Y_hat is predicted value of Y \n",
    "        Y_hat = 1 / (1 + np.exp(-(self.X.dot(self.weights) + self.bias)))\n",
    "        \n",
    "        dw = (1/self.no_ex) * np.dot(self.X.T,(Y_hat - self.Y))\n",
    "        \n",
    "        db = (1/self.no_ex) * np.sum(Y_hat - self.Y)\n",
    "        \n",
    "        self.weights -= self.lr*dw\n",
    "        self.bias -= self.lr*db\n",
    "    \n",
    "#     this function predicts the value of Y\n",
    "    def predict(self,X):\n",
    "        \n",
    "        Y_pred = 1 /(1 + np.exp(-(X.dot(self.weights) + self.bias)))\n",
    "        Y_pred = np.where( Y_pred > 0.5,1,0)\n",
    "        return Y_pred"
   ]
  },
  {
   "cell_type": "code",
   "execution_count": 5,
   "id": "dd226cbe",
   "metadata": {
    "execution": {
     "iopub.execute_input": "2023-09-01T16:50:33.569697Z",
     "iopub.status.busy": "2023-09-01T16:50:33.568486Z",
     "iopub.status.idle": "2023-09-01T16:50:33.638960Z",
     "shell.execute_reply": "2023-09-01T16:50:33.637729Z"
    },
    "papermill": {
     "duration": 0.080392,
     "end_time": "2023-09-01T16:50:33.641746",
     "exception": false,
     "start_time": "2023-09-01T16:50:33.561354",
     "status": "completed"
    },
    "tags": []
   },
   "outputs": [
    {
     "name": "stdout",
     "output_type": "stream",
     "text": [
      "0.9166666666666666\n"
     ]
    }
   ],
   "source": [
    "# creating object of class Logisitc_Regression\n",
    "\n",
    "model = LogisiticRegression()\n",
    "\n",
    "#calling fit function to train model\n",
    "model.fit(X_train,Y_train)\n",
    "\n",
    "#calling predict function to predict the value of y\n",
    "prediction = model.predict(X_test)\n",
    "\n",
    "#testing accuracy of code \n",
    "ac = accuracy_score(Y_test,prediction)\n",
    "print(ac)"
   ]
  }
 ],
 "kernelspec": {
  "display_name": "Python 3",
  "language": "python",
  "name": "python3"
 },
 "language_info": {
  "codemirror_mode": {
   "name": "ipython",
   "version": 3
  },
  "file_extension": ".py",
  "mimetype": "text/x-python",
  "name": "python",
  "nbconvert_exporter": "python",
  "pygments_lexer": "ipython3",
  "version": "3.6.4"
 },
 "metadata": {
  "kernelspec": {
   "display_name": "Python 3",
   "language": "python",
   "name": "python3"
  },
  "language_info": {
   "codemirror_mode": {
    "name": "ipython",
    "version": 3
   },
   "file_extension": ".py",
   "mimetype": "text/x-python",
   "name": "python",
   "nbconvert_exporter": "python",
   "pygments_lexer": "ipython3",
   "version": "3.10.12"
  },
  "papermill": {
   "default_parameters": {},
   "duration": 17.24742,
   "end_time": "2023-09-01T16:50:34.770576",
   "environment_variables": {},
   "exception": null,
   "input_path": "__notebook__.ipynb",
   "output_path": "__notebook__.ipynb",
   "parameters": {},
   "start_time": "2023-09-01T16:50:17.523156",
   "version": "2.4.0"
  }
 },
 "nbformat": 4,
 "nbformat_minor": 5
}
