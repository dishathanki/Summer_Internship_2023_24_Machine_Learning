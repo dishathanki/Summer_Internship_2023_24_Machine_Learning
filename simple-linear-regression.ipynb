{
 "cells": [
  {
   "cell_type": "markdown",
   "id": "1c446b89",
   "metadata": {
    "papermill": {
     "duration": 0.005868,
     "end_time": "2023-09-01T16:54:53.132941",
     "exception": false,
     "start_time": "2023-09-01T16:54:53.127073",
     "status": "completed"
    },
    "tags": []
   },
   "source": [
    "# Simple Linear Regression Model \n",
    "\n",
    "\n",
    "\n",
    "\n"
   ]
  },
  {
   "cell_type": "code",
   "execution_count": 1,
   "id": "12e11f4f",
   "metadata": {
    "execution": {
     "iopub.execute_input": "2023-09-01T16:54:53.145348Z",
     "iopub.status.busy": "2023-09-01T16:54:53.144961Z",
     "iopub.status.idle": "2023-09-01T16:54:54.495045Z",
     "shell.execute_reply": "2023-09-01T16:54:54.493761Z"
    },
    "papermill": {
     "duration": 1.359624,
     "end_time": "2023-09-01T16:54:54.497955",
     "exception": false,
     "start_time": "2023-09-01T16:54:53.138331",
     "status": "completed"
    },
    "tags": []
   },
   "outputs": [
    {
     "name": "stderr",
     "output_type": "stream",
     "text": [
      "/opt/conda/lib/python3.10/site-packages/scipy/__init__.py:146: UserWarning: A NumPy version >=1.16.5 and <1.23.0 is required for this version of SciPy (detected version 1.23.5\n",
      "  warnings.warn(f\"A NumPy version >={np_minversion} and <{np_maxversion}\"\n"
     ]
    }
   ],
   "source": [
    "# Importing libraries \n",
    "\n",
    "import numpy as np\n",
    "import pandas as pd\n",
    "import matplotlib.pyplot as plt\n",
    "from sklearn.model_selection import train_test_split"
   ]
  },
  {
   "cell_type": "code",
   "execution_count": 2,
   "id": "2cc43f83",
   "metadata": {
    "execution": {
     "iopub.execute_input": "2023-09-01T16:54:54.510233Z",
     "iopub.status.busy": "2023-09-01T16:54:54.509794Z",
     "iopub.status.idle": "2023-09-01T16:54:54.544852Z",
     "shell.execute_reply": "2023-09-01T16:54:54.543443Z"
    },
    "papermill": {
     "duration": 0.044294,
     "end_time": "2023-09-01T16:54:54.547539",
     "exception": false,
     "start_time": "2023-09-01T16:54:54.503245",
     "status": "completed"
    },
    "tags": []
   },
   "outputs": [
    {
     "name": "stdout",
     "output_type": "stream",
     "text": [
      " Dataset shape :  (300, 2)\n",
      " X shape :  (300,)\n",
      " Y shape :  (300,)\n"
     ]
    }
   ],
   "source": [
    "# Reading csv File \n",
    "data = pd.read_csv('/kaggle/input/linear-regression-dataset/Linear Regression - Sheet1.csv')\n",
    "data.head()\n",
    "\n",
    "print(\" Dataset shape : \",data.shape)\n",
    "print(\" X shape : \",data['X'].shape)\n",
    "print(\" Y shape : \",data['Y'].shape)"
   ]
  },
  {
   "cell_type": "code",
   "execution_count": 3,
   "id": "fd07f401",
   "metadata": {
    "execution": {
     "iopub.execute_input": "2023-09-01T16:54:54.560032Z",
     "iopub.status.busy": "2023-09-01T16:54:54.559612Z",
     "iopub.status.idle": "2023-09-01T16:54:54.572055Z",
     "shell.execute_reply": "2023-09-01T16:54:54.570470Z"
    },
    "papermill": {
     "duration": 0.021733,
     "end_time": "2023-09-01T16:54:54.574667",
     "exception": false,
     "start_time": "2023-09-01T16:54:54.552934",
     "status": "completed"
    },
    "tags": []
   },
   "outputs": [
    {
     "name": "stdout",
     "output_type": "stream",
     "text": [
      "(300, 1)\n",
      "(300, 1)\n",
      " X train shape :  (225, 1)\n",
      " Y train shape :  (225, 1)\n",
      " X test shape :  (75, 1)\n",
      " Y test shape :  (75, 1)\n"
     ]
    }
   ],
   "source": [
    "#  defining X_train , Y_train , X_test and Y_test Variables for Model \n",
    "\n",
    "X = data['X'].values.reshape(-1, 1)\n",
    "Y = data['Y'].values.reshape(-1, 1)\n",
    "\n",
    "print(X.shape)\n",
    "print(Y.shape)\n",
    "\n",
    "X_train, X_test, Y_train, Y_test = train_test_split(X ,Y , test_size=0.25,random_state=101)\n",
    "\n",
    "print(\" X train shape : \",X_train.shape)\n",
    "print(\" Y train shape : \",Y_train.shape)\n",
    "\n",
    "print(\" X test shape : \",X_test.shape)\n",
    "print(\" Y test shape : \",Y_test.shape)"
   ]
  },
  {
   "cell_type": "code",
   "execution_count": 4,
   "id": "cefc953a",
   "metadata": {
    "execution": {
     "iopub.execute_input": "2023-09-01T16:54:54.587571Z",
     "iopub.status.busy": "2023-09-01T16:54:54.587074Z",
     "iopub.status.idle": "2023-09-01T16:54:54.597940Z",
     "shell.execute_reply": "2023-09-01T16:54:54.596697Z"
    },
    "papermill": {
     "duration": 0.02003,
     "end_time": "2023-09-01T16:54:54.600179",
     "exception": false,
     "start_time": "2023-09-01T16:54:54.580149",
     "status": "completed"
    },
    "tags": []
   },
   "outputs": [],
   "source": [
    "# defining Class LinearRegression to Train Model \n",
    "\n",
    "class LinearRegression:\n",
    "    \n",
    "    # initializing object's attributes using __init__ function\n",
    "    \n",
    "    def __init__(self,learning_rate=0.00005,epochs=100):\n",
    "        self.lr = learning_rate\n",
    "        self.epochs = epochs\n",
    "        self.weights = None \n",
    "        self.bias = None\n",
    "        \n",
    "    # Fit function is used to Train model \n",
    "    \n",
    "    def fit(self,X_train,Y_train):\n",
    "        no_ex , no_features = X_train.shape\n",
    "#         print(no_ex)\n",
    "#         print(no_features)\n",
    "#         initalizing weights and bias parameter\n",
    "        self.weights = np.zeros((no_features,1))\n",
    "        self.bias = 0\n",
    "#         Y_train = Y_train.reshape(-1,1)\n",
    "         \n",
    "#         formula for gradient decent \n",
    "        for _ in range(self.epochs):\n",
    "            pre_Y = np.dot(X_train, self.weights) + self.bias\n",
    "            \n",
    "#             computation\n",
    "            dw = (1/no_ex)*np.dot(X_train.T,(pre_Y - Y_train))\n",
    "            db = (1/no_ex)*np.sum(pre_Y - Y_train)\n",
    "            \n",
    "#             updating weights and bias \n",
    "            self.weights -= self.lr * dw\n",
    "            self.bias -= self.lr * db\n",
    "    \n",
    "    # predict function predicts the value of dependent variable(Y)\n",
    "    \n",
    "    def predict(self,X_test):\n",
    "        return np.dot(X_test,self.weights) + self.bias"
   ]
  },
  {
   "cell_type": "code",
   "execution_count": 5,
   "id": "741e3fba",
   "metadata": {
    "execution": {
     "iopub.execute_input": "2023-09-01T16:54:54.613306Z",
     "iopub.status.busy": "2023-09-01T16:54:54.612502Z",
     "iopub.status.idle": "2023-09-01T16:54:54.623268Z",
     "shell.execute_reply": "2023-09-01T16:54:54.621891Z"
    },
    "papermill": {
     "duration": 0.02007,
     "end_time": "2023-09-01T16:54:54.625882",
     "exception": false,
     "start_time": "2023-09-01T16:54:54.605812",
     "status": "completed"
    },
    "tags": []
   },
   "outputs": [],
   "source": [
    "# creating object LinearRegression class \n",
    "\n",
    "model = LinearRegression()\n",
    "\n",
    "#calling fit function to train model\n",
    "model.fit(X_train,Y_train)\n",
    "\n",
    "#calling predict function to predict the value of Y\n",
    "V = model.predict(X_test)\n",
    "# print(Y)"
   ]
  },
  {
   "cell_type": "code",
   "execution_count": 6,
   "id": "9c5bec37",
   "metadata": {
    "execution": {
     "iopub.execute_input": "2023-09-01T16:54:54.638864Z",
     "iopub.status.busy": "2023-09-01T16:54:54.638461Z",
     "iopub.status.idle": "2023-09-01T16:54:54.961819Z",
     "shell.execute_reply": "2023-09-01T16:54:54.960596Z"
    },
    "papermill": {
     "duration": 0.333194,
     "end_time": "2023-09-01T16:54:54.964555",
     "exception": false,
     "start_time": "2023-09-01T16:54:54.631361",
     "status": "completed"
    },
    "tags": []
   },
   "outputs": [
    {
     "data": {
      "image/png": "[encoded data removed]",
      "text/plain": [
       "<Figure size 640x480 with 1 Axes>"
      ]
     },
     "metadata": {},
     "output_type": "display_data"
    }
   ],
   "source": [
    "plt.scatter(X_train,Y_train,color='yellow')\n",
    "plt.plot(X_test,V,color='red')\n",
    "plt.show()"
   ]
  }
 ],
 "kernelspec": {
  "display_name": "Python 3",
  "language": "python",
  "name": "python3"
 },
 "language_info": {
  "codemirror_mode": {
   "name": "ipython",
   "version": 3
  },
  "file_extension": ".py",
  "mimetype": "text/x-python",
  "name": "python",
  "nbconvert_exporter": "python",
  "pygments_lexer": "ipython3",
  "version": "3.6.4"
 },
 "metadata": {
  "kernelspec": {
   "display_name": "Python 3",
   "language": "python",
   "name": "python3"
  },
  "language_info": {
   "codemirror_mode": {
    "name": "ipython",
    "version": 3
   },
   "file_extension": ".py",
   "mimetype": "text/x-python",
   "name": "python",
   "nbconvert_exporter": "python",
   "pygments_lexer": "ipython3",
   "version": "3.10.12"
  },
  "papermill": {
   "default_parameters": {},
   "duration": 15.640469,
   "end_time": "2023-09-01T16:54:55.994157",
   "environment_variables": {},
   "exception": null,
   "input_path": "__notebook__.ipynb",
   "output_path": "__notebook__.ipynb",
   "parameters": {},
   "start_time": "2023-09-01T16:54:40.353688",
   "version": "2.4.0"
  }
 },
 "nbformat": 4,
 "nbformat_minor": 5
}
